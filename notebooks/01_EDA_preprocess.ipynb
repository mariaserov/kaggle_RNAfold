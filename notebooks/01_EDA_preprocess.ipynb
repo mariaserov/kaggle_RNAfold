{
 "cells": [
  {
   "cell_type": "code",
   "execution_count": 3,
   "metadata": {},
   "outputs": [],
   "source": [
    "import pandas as pd\n",
    "import matplotlib.pyplot as plt\n",
    "\n",
    "train_seq = pd.read_csv(\"../data/train_sequences.csv\")\n",
    "train_seq2 = pd.read_csv(\"../data/train_sequences.v2.csv\")\n",
    "train_lbl = pd.read_csv(\"../data/train_labels.csv\")"
   ]
  },
  {
   "cell_type": "markdown",
   "metadata": {},
   "source": [
    "## Data structure\n",
    "The section below explores the data structure, alongside some basic exploratory data analysis"
   ]
  },
  {
   "cell_type": "code",
   "execution_count": 3,
   "metadata": {},
   "outputs": [
    {
     "data": {
      "text/html": [
       "<div>\n",
       "<style scoped>\n",
       "    .dataframe tbody tr th:only-of-type {\n",
       "        vertical-align: middle;\n",
       "    }\n",
       "\n",
       "    .dataframe tbody tr th {\n",
       "        vertical-align: top;\n",
       "    }\n",
       "\n",
       "    .dataframe thead th {\n",
       "        text-align: right;\n",
       "    }\n",
       "</style>\n",
       "<table border=\"1\" class=\"dataframe\">\n",
       "  <thead>\n",
       "    <tr style=\"text-align: right;\">\n",
       "      <th></th>\n",
       "      <th>target_id</th>\n",
       "      <th>sequence</th>\n",
       "      <th>temporal_cutoff</th>\n",
       "      <th>description</th>\n",
       "      <th>all_sequences</th>\n",
       "    </tr>\n",
       "  </thead>\n",
       "  <tbody>\n",
       "    <tr>\n",
       "      <th>0</th>\n",
       "      <td>1SCL_A</td>\n",
       "      <td>GGGUGCUCAGUACGAGAGGAACCGCACCC</td>\n",
       "      <td>1995-01-26</td>\n",
       "      <td>THE SARCIN-RICIN LOOP, A MODULAR RNA</td>\n",
       "      <td>&gt;1SCL_1|Chain A|RNA SARCIN-RICIN LOOP|Rattus n...</td>\n",
       "    </tr>\n",
       "    <tr>\n",
       "      <th>1</th>\n",
       "      <td>1RNK_A</td>\n",
       "      <td>GGCGCAGUGGGCUAGCGCCACUCAAAAGGCCCAU</td>\n",
       "      <td>1995-02-27</td>\n",
       "      <td>THE STRUCTURE OF AN RNA PSEUDOKNOT THAT CAUSES...</td>\n",
       "      <td>&gt;1RNK_1|Chain A|RNA PSEUDOKNOT|null\\nGGCGCAGUG...</td>\n",
       "    </tr>\n",
       "    <tr>\n",
       "      <th>2</th>\n",
       "      <td>1RHT_A</td>\n",
       "      <td>GGGACUGACGAUCACGCAGUCUAU</td>\n",
       "      <td>1995-06-03</td>\n",
       "      <td>24-MER RNA HAIRPIN COAT PROTEIN BINDING SITE F...</td>\n",
       "      <td>&gt;1RHT_1|Chain A|RNA (5'-R(P*GP*GP*GP*AP*CP*UP*...</td>\n",
       "    </tr>\n",
       "    <tr>\n",
       "      <th>3</th>\n",
       "      <td>1HLX_A</td>\n",
       "      <td>GGGAUAACUUCGGUUGUCCC</td>\n",
       "      <td>1995-09-15</td>\n",
       "      <td>P1 HELIX NUCLEIC ACIDS (DNA/RNA) RIBONUCLEIC ACID</td>\n",
       "      <td>&gt;1HLX_1|Chain A|RNA (5'-R(*GP*GP*GP*AP*UP*AP*A...</td>\n",
       "    </tr>\n",
       "    <tr>\n",
       "      <th>4</th>\n",
       "      <td>1HMH_E</td>\n",
       "      <td>GGCGACCCUGAUGAGGCCGAAAGGCCGAAACCGU</td>\n",
       "      <td>1995-12-07</td>\n",
       "      <td>THREE-DIMENSIONAL STRUCTURE OF A HAMMERHEAD RI...</td>\n",
       "      <td>&gt;1HMH_1|Chains A, C, E|HAMMERHEAD RIBOZYME-RNA...</td>\n",
       "    </tr>\n",
       "  </tbody>\n",
       "</table>\n",
       "</div>"
      ],
      "text/plain": [
       "  target_id                            sequence temporal_cutoff  \\\n",
       "0    1SCL_A       GGGUGCUCAGUACGAGAGGAACCGCACCC      1995-01-26   \n",
       "1    1RNK_A  GGCGCAGUGGGCUAGCGCCACUCAAAAGGCCCAU      1995-02-27   \n",
       "2    1RHT_A            GGGACUGACGAUCACGCAGUCUAU      1995-06-03   \n",
       "3    1HLX_A                GGGAUAACUUCGGUUGUCCC      1995-09-15   \n",
       "4    1HMH_E  GGCGACCCUGAUGAGGCCGAAAGGCCGAAACCGU      1995-12-07   \n",
       "\n",
       "                                         description  \\\n",
       "0               THE SARCIN-RICIN LOOP, A MODULAR RNA   \n",
       "1  THE STRUCTURE OF AN RNA PSEUDOKNOT THAT CAUSES...   \n",
       "2  24-MER RNA HAIRPIN COAT PROTEIN BINDING SITE F...   \n",
       "3  P1 HELIX NUCLEIC ACIDS (DNA/RNA) RIBONUCLEIC ACID   \n",
       "4  THREE-DIMENSIONAL STRUCTURE OF A HAMMERHEAD RI...   \n",
       "\n",
       "                                       all_sequences  \n",
       "0  >1SCL_1|Chain A|RNA SARCIN-RICIN LOOP|Rattus n...  \n",
       "1  >1RNK_1|Chain A|RNA PSEUDOKNOT|null\\nGGCGCAGUG...  \n",
       "2  >1RHT_1|Chain A|RNA (5'-R(P*GP*GP*GP*AP*CP*UP*...  \n",
       "3  >1HLX_1|Chain A|RNA (5'-R(*GP*GP*GP*AP*UP*AP*A...  \n",
       "4  >1HMH_1|Chains A, C, E|HAMMERHEAD RIBOZYME-RNA...  "
      ]
     },
     "execution_count": 3,
     "metadata": {},
     "output_type": "execute_result"
    }
   ],
   "source": [
    "train_seq.head(5)\n"
   ]
  },
  {
   "cell_type": "markdown",
   "metadata": {},
   "source": [
    "As can be seen above, the sequence dataframe contains 5 columns.\n",
    "The `all_sequences` column contains a FASTA-formatted information on the chain, including: \n",
    "* `1SCL_1|Chain A`: PDB ID (1SCL) & chain number (_1)\n",
    "* `Chain A`: the molecule is from chain A of the PDB structure\n",
    "* `RNA(...)` or name: the full chemical sequence (5' to 3') or descriptor of the molecule with ribonucleotide names, e.g. GP = Guanosine-Phosphate\n",
    "* Actual sequence: in format `\\nGGGAUAACUUCGGUUGUCCC\\n`"
   ]
  },
  {
   "cell_type": "code",
   "execution_count": 4,
   "metadata": {},
   "outputs": [
    {
     "data": {
      "text/plain": [
       "'>1RNK_1|Chain A|RNA PSEUDOKNOT|null\\nGGCGCAGUGGGCUAGCGCCACUCAAAAGGCCCAU\\n'"
      ]
     },
     "execution_count": 4,
     "metadata": {},
     "output_type": "execute_result"
    }
   ],
   "source": [
    "train_seq.iloc[1,4]"
   ]
  },
  {
   "cell_type": "markdown",
   "metadata": {},
   "source": [
    "The label dataframe provides coordinates of each nucleotide corresponding to each of the ID:"
   ]
  },
  {
   "cell_type": "code",
   "execution_count": 6,
   "metadata": {},
   "outputs": [
    {
     "data": {
      "text/html": [
       "<div>\n",
       "<style scoped>\n",
       "    .dataframe tbody tr th:only-of-type {\n",
       "        vertical-align: middle;\n",
       "    }\n",
       "\n",
       "    .dataframe tbody tr th {\n",
       "        vertical-align: top;\n",
       "    }\n",
       "\n",
       "    .dataframe thead th {\n",
       "        text-align: right;\n",
       "    }\n",
       "</style>\n",
       "<table border=\"1\" class=\"dataframe\">\n",
       "  <thead>\n",
       "    <tr style=\"text-align: right;\">\n",
       "      <th></th>\n",
       "      <th>ID</th>\n",
       "      <th>resname</th>\n",
       "      <th>resid</th>\n",
       "      <th>x_1</th>\n",
       "      <th>y_1</th>\n",
       "      <th>z_1</th>\n",
       "    </tr>\n",
       "  </thead>\n",
       "  <tbody>\n",
       "    <tr>\n",
       "      <th>0</th>\n",
       "      <td>1SCL_A_1</td>\n",
       "      <td>G</td>\n",
       "      <td>1</td>\n",
       "      <td>13.760</td>\n",
       "      <td>-25.974001</td>\n",
       "      <td>0.102</td>\n",
       "    </tr>\n",
       "    <tr>\n",
       "      <th>1</th>\n",
       "      <td>1SCL_A_2</td>\n",
       "      <td>G</td>\n",
       "      <td>2</td>\n",
       "      <td>9.310</td>\n",
       "      <td>-29.638000</td>\n",
       "      <td>2.669</td>\n",
       "    </tr>\n",
       "    <tr>\n",
       "      <th>2</th>\n",
       "      <td>1SCL_A_3</td>\n",
       "      <td>G</td>\n",
       "      <td>3</td>\n",
       "      <td>5.529</td>\n",
       "      <td>-27.813000</td>\n",
       "      <td>5.878</td>\n",
       "    </tr>\n",
       "    <tr>\n",
       "      <th>3</th>\n",
       "      <td>1SCL_A_4</td>\n",
       "      <td>U</td>\n",
       "      <td>4</td>\n",
       "      <td>2.678</td>\n",
       "      <td>-24.900999</td>\n",
       "      <td>9.793</td>\n",
       "    </tr>\n",
       "    <tr>\n",
       "      <th>4</th>\n",
       "      <td>1SCL_A_5</td>\n",
       "      <td>G</td>\n",
       "      <td>5</td>\n",
       "      <td>1.827</td>\n",
       "      <td>-20.136000</td>\n",
       "      <td>11.793</td>\n",
       "    </tr>\n",
       "    <tr>\n",
       "      <th>5</th>\n",
       "      <td>1SCL_A_6</td>\n",
       "      <td>C</td>\n",
       "      <td>6</td>\n",
       "      <td>2.040</td>\n",
       "      <td>-14.908000</td>\n",
       "      <td>11.771</td>\n",
       "    </tr>\n",
       "    <tr>\n",
       "      <th>6</th>\n",
       "      <td>1SCL_A_7</td>\n",
       "      <td>U</td>\n",
       "      <td>7</td>\n",
       "      <td>1.107</td>\n",
       "      <td>-11.513000</td>\n",
       "      <td>7.517</td>\n",
       "    </tr>\n",
       "    <tr>\n",
       "      <th>7</th>\n",
       "      <td>1SCL_A_8</td>\n",
       "      <td>C</td>\n",
       "      <td>8</td>\n",
       "      <td>2.991</td>\n",
       "      <td>-6.406000</td>\n",
       "      <td>4.783</td>\n",
       "    </tr>\n",
       "    <tr>\n",
       "      <th>8</th>\n",
       "      <td>1SCL_A_9</td>\n",
       "      <td>A</td>\n",
       "      <td>9</td>\n",
       "      <td>0.896</td>\n",
       "      <td>-1.193000</td>\n",
       "      <td>7.608</td>\n",
       "    </tr>\n",
       "    <tr>\n",
       "      <th>9</th>\n",
       "      <td>1SCL_A_10</td>\n",
       "      <td>G</td>\n",
       "      <td>10</td>\n",
       "      <td>0.228</td>\n",
       "      <td>2.646000</td>\n",
       "      <td>9.128</td>\n",
       "    </tr>\n",
       "  </tbody>\n",
       "</table>\n",
       "</div>"
      ],
      "text/plain": [
       "          ID resname  resid     x_1        y_1     z_1\n",
       "0   1SCL_A_1       G      1  13.760 -25.974001   0.102\n",
       "1   1SCL_A_2       G      2   9.310 -29.638000   2.669\n",
       "2   1SCL_A_3       G      3   5.529 -27.813000   5.878\n",
       "3   1SCL_A_4       U      4   2.678 -24.900999   9.793\n",
       "4   1SCL_A_5       G      5   1.827 -20.136000  11.793\n",
       "5   1SCL_A_6       C      6   2.040 -14.908000  11.771\n",
       "6   1SCL_A_7       U      7   1.107 -11.513000   7.517\n",
       "7   1SCL_A_8       C      8   2.991  -6.406000   4.783\n",
       "8   1SCL_A_9       A      9   0.896  -1.193000   7.608\n",
       "9  1SCL_A_10       G     10   0.228   2.646000   9.128"
      ]
     },
     "execution_count": 6,
     "metadata": {},
     "output_type": "execute_result"
    }
   ],
   "source": [
    "train_lbl.head(10)"
   ]
  },
  {
   "cell_type": "markdown",
   "metadata": {},
   "source": [
    "## EDA\n",
    "This section descriptively examines the dataset and its properties."
   ]
  },
  {
   "cell_type": "code",
   "execution_count": 31,
   "metadata": {},
   "outputs": [
    {
     "name": "stdout",
     "output_type": "stream",
     "text": [
      "Seq length distribution:\n"
     ]
    },
    {
     "data": {
      "image/png": "[encoded data removed]",
      "text/plain": [
       "<Figure size 432x288 with 1 Axes>"
      ]
     },
     "metadata": {
      "needs_background": "light"
     },
     "output_type": "display_data"
    },
    {
     "name": "stdout",
     "output_type": "stream",
     "text": [
      "Median seq length: 39.5\n"
     ]
    }
   ],
   "source": [
    "train_seq['seq_length'] = train_seq['sequence'].str.len()\n",
    "print(\"Seq length distribution:\")\n",
    "plt.plot()\n",
    "train_seq['seq_length'].hist(bins=50)\n",
    "plt.show()\n",
    "print(f\"Median seq length: {train_seq['seq_length'].median()}\")\n"
   ]
  },
  {
   "cell_type": "code",
   "execution_count": 67,
   "metadata": {},
   "outputs": [
    {
     "data": {
      "image/png": "[encoded data removed]",
      "text/plain": [
       "<Figure size 432x288 with 1 Axes>"
      ]
     },
     "metadata": {
      "needs_background": "light"
     },
     "output_type": "display_data"
    }
   ],
   "source": [
    "from collections import Counter\n",
    "\n",
    "seq = train_seq.iloc[0, 1]\n",
    "\n",
    "nts = []\n",
    "for seq in train_seq.iloc[:, 1]:\n",
    "    nts.extend(seq)\n",
    "\n",
    "nts_counts = Counter(nts)\n",
    "plt.bar(nts_counts.keys(), nts_counts.values())\n",
    "plt.title(\"Overall counts of each base\")\n",
    "#plt.xticks(nts_counts.keys())\n",
    "plt.show()"
   ]
  },
  {
   "cell_type": "code",
   "execution_count": 76,
   "metadata": {},
   "outputs": [
    {
     "data": {
      "text/plain": [
       "<matplotlib.axes._subplots.AxesSubplot at 0x14c963de49b0>"
      ]
     },
     "execution_count": 76,
     "metadata": {},
     "output_type": "execute_result"
    },
    {
     "data": {
      "image/png": "[encoded data removed]",
      "text/plain": [
       "<Figure size 432x288 with 1 Axes>"
      ]
     },
     "metadata": {
      "needs_background": "light"
     },
     "output_type": "display_data"
    }
   ],
   "source": [
    "def nucleotide_composition(seq):\n",
    "    d = dict(Counter(seq))\n",
    "    d2 = {k: v/len(seq) for k, v in d.items()}\n",
    "    return d2\n",
    "\n",
    "comp = train_seq['sequence'].apply(nucleotide_composition).fillna(0)\n",
    "comp_df = pd.DataFrame(comp.tolist()).fillna(0)\n",
    "comp_df.mean().plot(kind='bar', title='Average Nucleotide Composition')"
   ]
  },
  {
   "cell_type": "markdown",
   "metadata": {},
   "source": [
    "## Distance calculation"
   ]
  },
  {
   "cell_type": "code",
   "execution_count": null,
   "metadata": {},
   "outputs": [],
   "source": [
    "# calculate pairwise distance \n",
    "\n",
    "def calc_d(a, b, data = train_lbl):\n",
    "    l1 = data.iloc[a, 3:6]\n",
    "    l2 = data.iloc[b, 3:6]\n",
    "    d = sum((l1-l2)**2)**(1/2)\n",
    "    return d\n",
    "    \n"
   ]
  },
  {
   "cell_type": "markdown",
   "metadata": {},
   "source": [
    "# Pre-processing"
   ]
  },
  {
   "cell_type": "markdown",
   "metadata": {},
   "source": [
    "## Make toy datasets"
   ]
  },
  {
   "cell_type": "code",
   "execution_count": 24,
   "metadata": {},
   "outputs": [
    {
     "name": "stdout",
     "output_type": "stream",
     "text": [
      "1SCL_A.MSA.fasta copied to toy data\n",
      "1RNK_A.MSA.fasta copied to toy data\n",
      "1RHT_A.MSA.fasta copied to toy data\n",
      "1HLX_A.MSA.fasta copied to toy data\n",
      "1HMH_E.MSA.fasta copied to toy data\n",
      "1RNG_A.MSA.fasta copied to toy data\n",
      "1MME_D.MSA.fasta copied to toy data\n",
      "1KAJ_A.MSA.fasta copied to toy data\n",
      "1SLO_A.MSA.fasta copied to toy data\n",
      "1BIV_A.MSA.fasta copied to toy data\n",
      "1ANR_A.MSA.fasta copied to toy data\n",
      "1ZIG_A.MSA.fasta copied to toy data\n",
      "1ZIH_A.MSA.fasta copied to toy data\n",
      "1ETF_A.MSA.fasta copied to toy data\n",
      "1ZIF_A.MSA.fasta copied to toy data\n",
      "1KPD_A.MSA.fasta copied to toy data\n",
      "1IKD_A.MSA.fasta copied to toy data\n",
      "1ZDI_S.MSA.fasta copied to toy data\n",
      "1AFX_A.MSA.fasta copied to toy data\n",
      "1EBQ_A.MSA.fasta copied to toy data\n",
      "1EBR_A.MSA.fasta copied to toy data\n",
      "1ULL_A.MSA.fasta copied to toy data\n",
      "1KIS_B.MSA.fasta copied to toy data\n",
      "1KIS_A.MSA.fasta copied to toy data\n",
      "1ATO_A.MSA.fasta copied to toy data\n",
      "1TLR_A.MSA.fasta copied to toy data\n",
      "1VOP_A.MSA.fasta copied to toy data\n",
      "1AQO_A.MSA.fasta copied to toy data\n",
      "1ATV_A.MSA.fasta copied to toy data\n",
      "1ATW_A.MSA.fasta copied to toy data\n"
     ]
    }
   ],
   "source": [
    "from pathlib import Path\n",
    "import shutil\n",
    "\n",
    "n = 30 # number of unique sequences \n",
    "\n",
    "toy_data_seq = train_seq.iloc[0:n, :]\n",
    "seq_list = toy_data_seq['target_id']\n",
    "toy_data_lbl = train_lbl[train_lbl['ID'].str.startswith(tuple(seq_list))]\n",
    "\n",
    "toy_data_seq.to_csv(\"../toy_data/train_sequences.csv\", index=False)\n",
    "toy_data_lbl.to_csv(\"../toy_data/train_labels.csv\", index=False)\n",
    "\n",
    "\n",
    "# Copy corresponding MSA files\n",
    "for seq in seq_list:\n",
    "    msa_file = Path(f\"../data/MSA/{seq}.MSA.fasta\")\n",
    "    if msa_file.exists():\n",
    "        shutil.copy(msa_file, Path(\"../toy_data/MSA\"))\n",
    "        print(f\"{seq}.MSA.fasta copied to toy data\")\n",
    "    else: \n",
    "        print(f\"{seq}.MSA.fasta does not exist\")"
   ]
  },
  {
   "cell_type": "code",
   "execution_count": 22,
   "metadata": {},
   "outputs": [
    {
     "data": {
      "text/plain": [
       "0     1SCL_A\n",
       "1     1RNK_A\n",
       "2     1RHT_A\n",
       "3     1HLX_A\n",
       "4     1HMH_E\n",
       "5     1RNG_A\n",
       "6     1MME_D\n",
       "7     1KAJ_A\n",
       "8     1SLO_A\n",
       "9     1BIV_A\n",
       "10    1ANR_A\n",
       "11    1ZIG_A\n",
       "12    1ZIH_A\n",
       "13    1ETF_A\n",
       "14    1ZIF_A\n",
       "15    1KPD_A\n",
       "16    1IKD_A\n",
       "17    1ZDI_S\n",
       "18    1AFX_A\n",
       "19    1EBQ_A\n",
       "20    1EBR_A\n",
       "21    1ULL_A\n",
       "22    1KIS_B\n",
       "23    1KIS_A\n",
       "24    1ATO_A\n",
       "25    1TLR_A\n",
       "26    1VOP_A\n",
       "27    1AQO_A\n",
       "28    1ATV_A\n",
       "29    1ATW_A\n",
       "Name: target_id, dtype: object"
      ]
     },
     "execution_count": 22,
     "metadata": {},
     "output_type": "execute_result"
    }
   ],
   "source": [
    "seq_list"
   ]
  },
  {
   "cell_type": "code",
   "execution_count": 17,
   "metadata": {},
   "outputs": [
    {
     "data": {
      "text/plain": [
       "('1SCL_A',\n",
       " '1RNK_A',\n",
       " '1RHT_A',\n",
       " '1HLX_A',\n",
       " '1HMH_E',\n",
       " '1RNG_A',\n",
       " '1MME_D',\n",
       " '1KAJ_A',\n",
       " '1SLO_A',\n",
       " '1BIV_A')"
      ]
     },
     "execution_count": 17,
     "metadata": {},
     "output_type": "execute_result"
    }
   ],
   "source": []
  },
  {
   "cell_type": "code",
   "execution_count": null,
   "metadata": {},
   "outputs": [],
   "source": []
  }
 ],
 "metadata": {
  "kernelspec": {
   "display_name": "Python 3",
   "language": "python",
   "name": "python3"
  },
  "language_info": {
   "codemirror_mode": {
    "name": "ipython",
    "version": 3
   },
   "file_extension": ".py",
   "mimetype": "text/x-python",
   "name": "python",
   "nbconvert_exporter": "python",
   "pygments_lexer": "ipython3",
   "version": "3.6.8"
  }
 },
 "nbformat": 4,
 "nbformat_minor": 2
}
